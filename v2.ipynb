{
 "metadata": {
  "orig_nbformat": 2,
  "kernelspec": {
   "name": "python3",
   "display_name": "Python 3",
   "language": "python"
  }
 },
 "nbformat": 4,
 "nbformat_minor": 2,
 "cells": [
  {
   "source": [
    "# Related Sentences"
   ],
   "cell_type": "markdown",
   "metadata": {}
  },
  {
   "cell_type": "code",
   "execution_count": 1,
   "metadata": {},
   "outputs": [],
   "source": [
    "import pandas as pd\n",
    "import numpy as np\n",
    "import spacy\n",
    "sp_mod = spacy.load(\"en_core_web_sm\")\n",
    "import os, sys\n",
    "import glob\n",
    "from itertools import chain "
   ]
  },
  {
   "cell_type": "code",
   "execution_count": 2,
   "metadata": {},
   "outputs": [],
   "source": [
    "def cell_expand(df, lst_cols, fill_value=''):\n",
    "    # make sure `lst_cols` is a list\n",
    "    if lst_cols and not isinstance(lst_cols, list):\n",
    "        lst_cols = [lst_cols]\n",
    "    # all columns except `lst_cols`\n",
    "    idx_cols = df.columns.difference(lst_cols)\n",
    "\n",
    "    # calculate lengths of lists\n",
    "    lens = df[lst_cols[0]].str.len()\n",
    "\n",
    "    if (lens > 0).all():\n",
    "        # ALL lists in cells aren't empty\n",
    "        return pd.DataFrame({\n",
    "            col:np.repeat(df[col].values, df[lst_cols[0]].str.len())\n",
    "            for col in idx_cols\n",
    "        }).assign(**{col:np.concatenate(df[col].values) for col in lst_cols}) \\\n",
    "          .loc[:, df.columns]\n",
    "    else:\n",
    "        # at least one list in cells is empty\n",
    "        return pd.DataFrame({\n",
    "            col:np.repeat(df[col].values, df[lst_cols[0]].str.len())\n",
    "            for col in idx_cols\n",
    "        }).assign(**{col:np.concatenate(df[col].values) for col in lst_cols}) \\\n",
    "          .append(df.loc[lens==0, idx_cols]).fillna(fill_value) \\\n",
    "          .loc[:, df.columns]"
   ]
  },
  {
   "cell_type": "code",
   "execution_count": 3,
   "metadata": {},
   "outputs": [],
   "source": [
    "filenames = glob.glob('/Users/Mohit/Desktop/Work/Shreays Dataset/chuncker_raw_new_dataset/cnn/del/*.story', recursive = True)\n",
    "# filenames = glob.glob('/Users/Mohit/Desktop/Work/Shreays Dataset/chuncker_raw_new_dataset/cnn/stories/*.story', recursive = True)\n",
    "## filenames = filenames[0]\n",
    "## print(filenames)"
   ]
  },
  {
   "cell_type": "code",
   "execution_count": 4,
   "metadata": {},
   "outputs": [],
   "source": [
    "files = {} \n",
    "allstory_list = []\n",
    "for filename in filenames: \n",
    "    with open(filename, \"r\") as file: \n",
    "        if filename in files: \n",
    "            continue \n",
    "        files[filename] = file.read() \n",
    "for filename, text in files.items(): \n",
    "    allstory_list.append(text)"
   ]
  },
  {
   "cell_type": "code",
   "execution_count": 5,
   "metadata": {},
   "outputs": [],
   "source": [
    "# allstory_list"
   ]
  },
  {
   "cell_type": "code",
   "execution_count": 6,
   "metadata": {},
   "outputs": [],
   "source": [
    "def convert_allstory_list(allstory_list):\n",
    "    final_list = []\n",
    "    for i in range(len(allstory_list)):\n",
    "        res_list = allstory_list[0].splitlines()\n",
    "        res = [ele for ele in res_list if ele != []]\n",
    "        res = [x for x in res if x]\n",
    "        # res = res[: len(res) - 8]\n",
    "        final_list.append(res)\n",
    "    return final_list\n",
    "    # print(res)"
   ]
  },
  {
   "cell_type": "code",
   "execution_count": 7,
   "metadata": {},
   "outputs": [],
   "source": [
    "final_list = convert_allstory_list(allstory_list)"
   ]
  },
  {
   "cell_type": "code",
   "execution_count": 8,
   "metadata": {},
   "outputs": [],
   "source": [
    "# IMP\n",
    "def convert_pairs(final_list):\n",
    "    new_list = []\n",
    "    for i in range(len(final_list)):\n",
    "        for j in range(len(final_list[i])):\n",
    "            new_sents = [] # for sentences with lenght greater than 5\n",
    "            text = final_list[i][j]\n",
    "            doc = sp_mod(text)\n",
    "            # Tokenise the sentence\n",
    "            sents = [elem for elem in doc.sents]\n",
    "\n",
    "            if len(sents) > 1:\n",
    "\n",
    "                # Idnetify the length of the sentence\n",
    "                sents_len = [len(elem) for elem in doc.sents]\n",
    "                \n",
    "                # Ignore the tokenise setence with length less than 5 \n",
    "                for k in range(len(sents_len)):\n",
    "                    if sents_len[k] > 5:\n",
    "                        new_sents.append(sents[k])\n",
    "            else:\n",
    "                new_sents = []\n",
    "                \n",
    "            # Assign to final list\n",
    "            final_list[i][j] = new_sents\n",
    "\n",
    "    final_list = list(chain.from_iterable(final_list))\n",
    "    final_list = [x for x in final_list if x]\n",
    "    new_list.append(final_list)\n",
    "\n",
    "    return new_list"
   ]
  },
  {
   "cell_type": "code",
   "execution_count": 9,
   "metadata": {},
   "outputs": [],
   "source": [
    "final_list_converted_pairs = convert_pairs(final_list)\n",
    "# final_list_converted_pairs"
   ]
  },
  {
   "cell_type": "code",
   "execution_count": 10,
   "metadata": {},
   "outputs": [],
   "source": [
    "def pairs_related(new_sents):\n",
    "    df = pd.DataFrame(columns=['sent_list'], index = range(1))\n",
    "    df['sent_list'][0] = new_sents\n",
    "\n",
    "    df['sent_len'] = None\n",
    "    for i in range(df.shape[0]):\n",
    "        df['sent_len'][i] = len(df['sent_list'][i])\n",
    "    df = df[df['sent_len']>1]\n",
    "    # print(\"*\"*100)\n",
    "    # print(df.head())\n",
    "    # print(\"*\"*100)\n",
    "    df = df.reset_index(drop=True)\n",
    "\n",
    "    df['sent-1'] = None\n",
    "    df['sent-2'] = None\n",
    "\n",
    "    if df['sent_len'][0] > 2:\n",
    "        for i in range(df.shape[0]):\n",
    "\n",
    "            sent_1_list = []\n",
    "            sent_2_list = []\n",
    "            \n",
    "            for j in range(df['sent_len'][i]):\n",
    "                sent_1_list.append(df['sent_list'][i][j])\n",
    "                if j+1 < df['sent_len'][i]:\n",
    "                    sent_2_list.append(df['sent_list'][i][j+1])\n",
    "\n",
    "            df['sent-1'][i] = sent_1_list\n",
    "            df['sent-2'][i] = sent_2_list\n",
    "            \n",
    "            if len(df['sent-1'][i]) > len(df['sent-2'][i]):\n",
    "                df['sent-1'][i].pop()\n",
    "\n",
    "        col_list = ['sent-1','sent-2']\n",
    "        df = cell_expand(df, lst_cols=col_list)\n",
    "        df = df.reset_index(drop=True)\n",
    "\n",
    "    else:\n",
    "\n",
    "        for i in range(df.shape[0]):\n",
    "            df['sent-1'][i] = df['sent_list'][i][0]\n",
    "            df['sent-2'][i] = df['sent_list'][i][1]\n",
    "        df = df.reset_index(drop=True)\n",
    "\n",
    "    df['sent-1'] = df['sent-1'].astype('str')\n",
    "    df['sent-2'] = df['sent-2'].astype('str')\n",
    "    df['sent-1'].replace('', np.nan, inplace=True)\n",
    "    df.dropna(subset=['sent-1'], inplace=True)\n",
    "    df['sent-2'].replace('', np.nan, inplace=True)\n",
    "    df.dropna(subset=['sent-2'], inplace=True)\n",
    "    df = df[['sent-1','sent-2']]\n",
    "    final_list2 = df.values.tolist()\n",
    "    return final_list2"
   ]
  },
  {
   "cell_type": "code",
   "execution_count": 11,
   "metadata": {},
   "outputs": [
    {
     "output_type": "stream",
     "name": "stderr",
     "text": [
      "<string>:6: VisibleDeprecationWarning: Creating an ndarray from ragged nested sequences (which is a list-or-tuple of lists-or-tuples-or ndarrays with different lengths or shapes) is deprecated. If you meant to do this, you must specify 'dtype=object' when creating the ndarray\n<string>:6: VisibleDeprecationWarning: Creating an ndarray from ragged nested sequences (which is a list-or-tuple of lists-or-tuples-or ndarrays with different lengths or shapes) is deprecated. If you meant to do this, you must specify 'dtype=object' when creating the ndarray\n<string>:6: VisibleDeprecationWarning: Creating an ndarray from ragged nested sequences (which is a list-or-tuple of lists-or-tuples-or ndarrays with different lengths or shapes) is deprecated. If you meant to do this, you must specify 'dtype=object' when creating the ndarray\n<string>:6: VisibleDeprecationWarning: Creating an ndarray from ragged nested sequences (which is a list-or-tuple of lists-or-tuples-or ndarrays with different lengths or shapes) is deprecated. If you meant to do this, you must specify 'dtype=object' when creating the ndarray\n"
     ]
    }
   ],
   "source": [
    "final_df = pd.DataFrame(columns = [\"sent-1\", \"sent-2\"])\n",
    "for i in range(len(final_list_converted_pairs)):\n",
    "        for j in range(len(final_list_converted_pairs[i])):\n",
    "            try:\n",
    "                inter_df = pd.DataFrame(pairs_related(final_list_converted_pairs[i][j]))\n",
    "                inter_df.columns = [\"sent-1\", \"sent-2\"]\n",
    "                final_df = final_df.append(inter_df)\n",
    "            except:\n",
    "                # print(pairs_related(final_list_converted_pairs[i][j]))\n",
    "                continue\n",
    "final_df = final_df.reset_index(drop=True)"
   ]
  },
  {
   "cell_type": "code",
   "execution_count": 12,
   "metadata": {},
   "outputs": [
    {
     "output_type": "display_data",
     "data": {
      "text/plain": "(18, 2)"
     },
     "metadata": {}
    },
    {
     "output_type": "display_data",
     "data": {
      "text/plain": "                                              sent-1  \\\n0  Can a movie actually convince you to support t...   \n1  Can a movie really persuade you that \"fracking...   \n2  Some scoff at the notion that movies do anythi...   \n3  Sure, it's unlikely that one movie alone will ...   \n4  But a movie (or TV show) can begin your \"educa...   \n\n                                              sent-2  \n0  Can a movie really persuade you that \"fracking...  \n1  Can a movie truly cause you to view certain mi...  \n2  Sure, it's unlikely that one movie alone will ...  \n3  But a movie (or TV show) can begin your \"educa...  \n4  And for those already agreeing with the film's...  ",
      "text/html": "<div>\n<style scoped>\n    .dataframe tbody tr th:only-of-type {\n        vertical-align: middle;\n    }\n\n    .dataframe tbody tr th {\n        vertical-align: top;\n    }\n\n    .dataframe thead th {\n        text-align: right;\n    }\n</style>\n<table border=\"1\" class=\"dataframe\">\n  <thead>\n    <tr style=\"text-align: right;\">\n      <th></th>\n      <th>sent-1</th>\n      <th>sent-2</th>\n    </tr>\n  </thead>\n  <tbody>\n    <tr>\n      <th>0</th>\n      <td>Can a movie actually convince you to support t...</td>\n      <td>Can a movie really persuade you that \"fracking...</td>\n    </tr>\n    <tr>\n      <th>1</th>\n      <td>Can a movie really persuade you that \"fracking...</td>\n      <td>Can a movie truly cause you to view certain mi...</td>\n    </tr>\n    <tr>\n      <th>2</th>\n      <td>Some scoff at the notion that movies do anythi...</td>\n      <td>Sure, it's unlikely that one movie alone will ...</td>\n    </tr>\n    <tr>\n      <th>3</th>\n      <td>Sure, it's unlikely that one movie alone will ...</td>\n      <td>But a movie (or TV show) can begin your \"educa...</td>\n    </tr>\n    <tr>\n      <th>4</th>\n      <td>But a movie (or TV show) can begin your \"educa...</td>\n      <td>And for those already agreeing with the film's...</td>\n    </tr>\n  </tbody>\n</table>\n</div>"
     },
     "metadata": {}
    }
   ],
   "source": [
    "display(final_df.shape, final_df.head())"
   ]
  },
  {
   "cell_type": "code",
   "execution_count": 13,
   "metadata": {},
   "outputs": [],
   "source": [
    "final_df['label'] = 1"
   ]
  },
  {
   "cell_type": "code",
   "execution_count": 14,
   "metadata": {},
   "outputs": [],
   "source": [
    "final_df.to_csv(\"/Users/Mohit/Desktop/Work/Shreays Dataset/chuncker_raw_new_dataset/problem-solution/data/related.csv\")"
   ]
  },
  {
   "cell_type": "code",
   "execution_count": null,
   "metadata": {},
   "outputs": [],
   "source": []
  },
  {
   "cell_type": "code",
   "execution_count": 15,
   "metadata": {},
   "outputs": [],
   "source": [
    "# print(final_list2)"
   ]
  }
 ]
}