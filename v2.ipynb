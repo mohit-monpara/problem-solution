{
 "metadata": {
  "orig_nbformat": 2,
  "kernelspec": {
   "name": "python3",
   "display_name": "Python 3",
   "language": "python"
  }
 },
 "nbformat": 4,
 "nbformat_minor": 2,
 "cells": [
  {
   "source": [
    "# Related Sentences"
   ],
   "cell_type": "markdown",
   "metadata": {}
  },
  {
   "cell_type": "code",
   "execution_count": null,
   "metadata": {},
   "outputs": [],
   "source": [
    "import pandas as pd\n",
    "import numpy as np\n",
    "import spacy\n",
    "sp_mod = spacy.load(\"en_core_web_sm\")\n",
    "import os, sys\n",
    "import glob\n",
    "from itertools import chain "
   ]
  },
  {
   "cell_type": "code",
   "execution_count": null,
   "metadata": {},
   "outputs": [],
   "source": [
    "def cell_expand(df, lst_cols, fill_value=''):\n",
    "    # make sure `lst_cols` is a list\n",
    "    if lst_cols and not isinstance(lst_cols, list):\n",
    "        lst_cols = [lst_cols]\n",
    "    # all columns except `lst_cols`\n",
    "    idx_cols = df.columns.difference(lst_cols)\n",
    "\n",
    "    # calculate lengths of lists\n",
    "    lens = df[lst_cols[0]].str.len()\n",
    "\n",
    "    if (lens > 0).all():\n",
    "        # ALL lists in cells aren't empty\n",
    "        return pd.DataFrame({\n",
    "            col:np.repeat(df[col].values, df[lst_cols[0]].str.len())\n",
    "            for col in idx_cols\n",
    "        }).assign(**{col:np.concatenate(df[col].values) for col in lst_cols}) \\\n",
    "          .loc[:, df.columns]\n",
    "    else:\n",
    "        # at least one list in cells is empty\n",
    "        return pd.DataFrame({\n",
    "            col:np.repeat(df[col].values, df[lst_cols[0]].str.len())\n",
    "            for col in idx_cols\n",
    "        }).assign(**{col:np.concatenate(df[col].values) for col in lst_cols}) \\\n",
    "          .append(df.loc[lens==0, idx_cols]).fillna(fill_value) \\\n",
    "          .loc[:, df.columns]"
   ]
  },
  {
   "cell_type": "code",
   "execution_count": null,
   "metadata": {},
   "outputs": [],
   "source": [
    "# filenames = glob.glob('/Users/Mohit/Desktop/Work/Shreays Dataset/chuncker_raw_new_dataset/cnn/del/*.story', recursive = True)\n",
    "filenames = glob.glob('/Users/Mohit/Desktop/Work/Shreays Dataset/chuncker_raw_new_dataset/cnn/stories/*.story', recursive = True)\n",
    "## filenames = filenames[0]\n",
    "## print(filenames)"
   ]
  },
  {
   "cell_type": "code",
   "execution_count": null,
   "metadata": {},
   "outputs": [],
   "source": [
    "files = {} \n",
    "allstory_list = []\n",
    "for filename in filenames: \n",
    "    with open(filename, \"r\") as file: \n",
    "        if filename in files: \n",
    "            continue \n",
    "        files[filename] = file.read() \n",
    "for filename, text in files.items(): \n",
    "    allstory_list.append(text)"
   ]
  },
  {
   "cell_type": "code",
   "execution_count": null,
   "metadata": {},
   "outputs": [],
   "source": [
    "# allstory_list"
   ]
  },
  {
   "cell_type": "code",
   "execution_count": null,
   "metadata": {},
   "outputs": [],
   "source": [
    "def convert_allstory_list(allstory_list):\n",
    "    final_list = []\n",
    "    for i in range(len(allstory_list)):\n",
    "        res_list = allstory_list[0].splitlines()\n",
    "        res = [ele for ele in res_list if ele != []]\n",
    "        res = [x for x in res if x]\n",
    "        # res = res[: len(res) - 8]\n",
    "        final_list.append(res)\n",
    "    return final_list\n",
    "    # print(res)"
   ]
  },
  {
   "cell_type": "code",
   "execution_count": null,
   "metadata": {},
   "outputs": [],
   "source": [
    "final_list = convert_allstory_list(allstory_list)"
   ]
  },
  {
   "cell_type": "code",
   "execution_count": null,
   "metadata": {},
   "outputs": [],
   "source": [
    "# IMP\n",
    "def convert_pairs(final_list):\n",
    "    new_list = []\n",
    "    for i in range(len(final_list)):\n",
    "        for j in range(len(final_list[i])):\n",
    "            new_sents = [] # for sentences with lenght greater than 5\n",
    "            text = final_list[i][j]\n",
    "            doc = sp_mod(text)\n",
    "            # Tokenise the sentence\n",
    "            sents = [elem for elem in doc.sents]\n",
    "\n",
    "            if len(sents) > 1:\n",
    "\n",
    "                # Idnetify the length of the sentence\n",
    "                sents_len = [len(elem) for elem in doc.sents]\n",
    "                \n",
    "                # Ignore the tokenise setence with length less than 5 \n",
    "                for k in range(len(sents_len)):\n",
    "                    if sents_len[k] > 5:\n",
    "                        new_sents.append(sents[k])\n",
    "            else:\n",
    "                new_sents = []\n",
    "                \n",
    "            # Assign to final list\n",
    "            final_list[i][j] = new_sents\n",
    "\n",
    "    final_list = list(chain.from_iterable(final_list))\n",
    "    final_list = [x for x in final_list if x]\n",
    "    new_list.append(final_list)\n",
    "\n",
    "    return new_list"
   ]
  },
  {
   "cell_type": "code",
   "execution_count": null,
   "metadata": {},
   "outputs": [],
   "source": [
    "final_list_converted_pairs = convert_pairs(final_list)\n",
    "# final_list_converted_pairs"
   ]
  },
  {
   "cell_type": "code",
   "execution_count": null,
   "metadata": {},
   "outputs": [],
   "source": [
    "def pairs_related(new_sents):\n",
    "    df = pd.DataFrame(columns=['sent_list'], index = range(1))\n",
    "    df['sent_list'][0] = new_sents\n",
    "\n",
    "    df['sent_len'] = None\n",
    "    for i in range(df.shape[0]):\n",
    "        df['sent_len'][i] = len(df['sent_list'][i])\n",
    "    df = df[df['sent_len']>1]\n",
    "    # print(\"*\"*100)\n",
    "    # print(df.head())\n",
    "    # print(\"*\"*100)\n",
    "    df = df.reset_index(drop=True)\n",
    "\n",
    "    df['sent-1'] = None\n",
    "    df['sent-2'] = None\n",
    "\n",
    "    if df['sent_len'][0] > 2:\n",
    "        for i in range(df.shape[0]):\n",
    "\n",
    "            sent_1_list = []\n",
    "            sent_2_list = []\n",
    "            \n",
    "            for j in range(df['sent_len'][i]):\n",
    "                sent_1_list.append(df['sent_list'][i][j])\n",
    "                if j+1 < df['sent_len'][i]:\n",
    "                    sent_2_list.append(df['sent_list'][i][j+1])\n",
    "\n",
    "            df['sent-1'][i] = sent_1_list\n",
    "            df['sent-2'][i] = sent_2_list\n",
    "            \n",
    "            if len(df['sent-1'][i]) > len(df['sent-2'][i]):\n",
    "                df['sent-1'][i].pop()\n",
    "\n",
    "        col_list = ['sent-1','sent-2']\n",
    "        df = cell_expand(df, lst_cols=col_list)\n",
    "        df = df.reset_index(drop=True)\n",
    "\n",
    "    else:\n",
    "\n",
    "        for i in range(df.shape[0]):\n",
    "            df['sent-1'][i] = df['sent_list'][i][0]\n",
    "            df['sent-2'][i] = df['sent_list'][i][1]\n",
    "        df = df.reset_index(drop=True)\n",
    "\n",
    "    df['sent-1'] = df['sent-1'].astype('str')\n",
    "    df['sent-2'] = df['sent-2'].astype('str')\n",
    "    df['sent-1'].replace('', np.nan, inplace=True)\n",
    "    df.dropna(subset=['sent-1'], inplace=True)\n",
    "    df['sent-2'].replace('', np.nan, inplace=True)\n",
    "    df.dropna(subset=['sent-2'], inplace=True)\n",
    "    df = df[['sent-1','sent-2']]\n",
    "    final_list2 = df.values.tolist()\n",
    "    return final_list2"
   ]
  },
  {
   "cell_type": "code",
   "execution_count": null,
   "metadata": {},
   "outputs": [],
   "source": [
    "final_df = pd.DataFrame(columns = [\"sent-1\", \"sent-2\"])\n",
    "for i in range(len(final_list_converted_pairs)):\n",
    "        for j in range(len(final_list_converted_pairs[i])):\n",
    "            try:\n",
    "                inter_df = pd.DataFrame(pairs_related(final_list_converted_pairs[i][j]))\n",
    "                inter_df.columns = [\"sent-1\", \"sent-2\"]\n",
    "                final_df = final_df.append(inter_df)\n",
    "            except:\n",
    "                # print(pairs_related(final_list_converted_pairs[i][j]))\n",
    "                continue\n",
    "final_df = final_df.reset_index(drop=True)"
   ]
  },
  {
   "cell_type": "code",
   "execution_count": null,
   "metadata": {},
   "outputs": [],
   "source": [
    "display(final_df.shape, final_df.head())"
   ]
  },
  {
   "cell_type": "code",
   "execution_count": null,
   "metadata": {},
   "outputs": [],
   "source": [
    "final_df['label'] = 1"
   ]
  },
  {
   "cell_type": "code",
   "execution_count": null,
   "metadata": {},
   "outputs": [],
   "source": [
    "final_df.to_csv(\"/Users/Mohit/Desktop/Work/Shreays Dataset/chuncker_raw_new_dataset/problem-solution/data/related.csv\")"
   ]
  },
  {
   "cell_type": "code",
   "execution_count": null,
   "metadata": {},
   "outputs": [],
   "source": []
  },
  {
   "cell_type": "code",
   "execution_count": null,
   "metadata": {},
   "outputs": [],
   "source": [
    "# print(final_list2)"
   ]
  }
 ]
}