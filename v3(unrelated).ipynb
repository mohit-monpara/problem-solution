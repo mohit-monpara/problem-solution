{
 "metadata": {
  "language_info": {
   "codemirror_mode": {
    "name": "ipython",
    "version": 3
   },
   "file_extension": ".py",
   "mimetype": "text/x-python",
   "name": "python",
   "nbconvert_exporter": "python",
   "pygments_lexer": "ipython3",
   "version": "3.6.12-final"
  },
  "orig_nbformat": 2,
  "kernelspec": {
   "name": "python3",
   "display_name": "Python 3",
   "language": "python"
  }
 },
 "nbformat": 4,
 "nbformat_minor": 2,
 "cells": [
  {
   "source": [
    "# Unrelated Script"
   ],
   "cell_type": "markdown",
   "metadata": {}
  },
  {
   "cell_type": "code",
   "execution_count": 91,
   "metadata": {},
   "outputs": [],
   "source": [
    "import pandas as pd\n",
    "import numpy as np\n",
    "import spacy\n",
    "sp_mod = spacy.load(\"en_core_web_sm\")\n",
    "import os, sys\n",
    "import glob\n",
    "from itertools import chain "
   ]
  },
  {
   "cell_type": "code",
   "execution_count": 93,
   "metadata": {},
   "outputs": [
    {
     "output_type": "stream",
     "name": "stdout",
     "text": [
      "['/Users/Mohit/Desktop/Work/Shreays Dataset/chuncker_raw_new_dataset/cnn/del/0a0a4c90d59df9e36ffec4ba306b4f20f3ba4acb.story']\n"
     ]
    }
   ],
   "source": [
    "filenames = glob.glob('/Users/Mohit/Desktop/Work/Shreays Dataset/chuncker_raw_new_dataset/cnn/del/*.story', recursive = True)\n",
    "# filenames = glob.glob('/Users/Mohit/Desktop/Work/Shreays Dataset/chuncker_raw_new_dataset/cnn/stories/*.story', recursive = True)\n",
    "## filenames = filenames[0]\n",
    "print(filenames)"
   ]
  },
  {
   "cell_type": "code",
   "execution_count": null,
   "metadata": {},
   "outputs": [],
   "source": []
  },
  {
   "cell_type": "code",
   "execution_count": 94,
   "metadata": {},
   "outputs": [],
   "source": [
    "files = {} \n",
    "allstory_list = []\n",
    "for filename in filenames: \n",
    "    with open(filename, \"r\") as file: \n",
    "        if filename in files: \n",
    "            continue \n",
    "        files[filename] = file.read() \n",
    "for filename, text in files.items(): \n",
    "    allstory_list.append(text)"
   ]
  },
  {
   "cell_type": "code",
   "execution_count": 95,
   "metadata": {},
   "outputs": [],
   "source": [
    "def convert_allstory_list(allstory_list):\n",
    "    final_list = []\n",
    "    for i in range(len(allstory_list)):\n",
    "        res_list = allstory_list[0].splitlines()\n",
    "        res = [ele for ele in res_list if ele != []]\n",
    "        res = [x for x in res if x]\n",
    "        # res = res[: len(res) - 8]\n",
    "        final_list.append(res)\n",
    "    return final_list\n",
    "    # print(res)"
   ]
  },
  {
   "cell_type": "code",
   "execution_count": 96,
   "metadata": {},
   "outputs": [],
   "source": [
    "final_list = convert_allstory_list(allstory_list)"
   ]
  },
  {
   "cell_type": "code",
   "execution_count": 97,
   "metadata": {},
   "outputs": [],
   "source": [
    "# final_list = [['(CNN) -- Can a movie actually convince you to support torture? Can a movie really persuade you that \"fracking\" -- a process used to drill for natural gas -- is a danger to the environment? Can a movie truly cause you to view certain minority groups in a negative light?', 'How concerned is the gas industry?','So go ahead, enjoy these films and ones like them that are based on actual events or current hot issues. But while you are watching them, be aware you might be getting more than the price of ticket. You might also be getting a (mis)education.','In fact, there\\'s no doubt that the studios behind these movies are overjoyed at the controversy that has erupted and the resulting free press. Indeed, the response of Sony Pictures to the uproar over \"Zero Dark Thirty\" tells you about what they really hope we will all do: \"We encourage people to see the film before characterizing it.\"']]"
   ]
  },
  {
   "cell_type": "code",
   "execution_count": 98,
   "metadata": {},
   "outputs": [],
   "source": [
    "# IMP\n",
    "def convert_pairs(final_list):\n",
    "    new_list = []\n",
    "    for i in range(len(final_list)):\n",
    "        for j in range(len(final_list[i])):\n",
    "            new_sents = [] # for sentences with lenght greater than 5\n",
    "            text = final_list[i][j]\n",
    "            doc = sp_mod(text)\n",
    "            # Tokenise the sentence\n",
    "            sents = [elem for elem in doc.sents]\n",
    "\n",
    "            if len(sents) > 1:\n",
    "\n",
    "                # Idnetify the length of the sentence\n",
    "                sents_len = [len(elem) for elem in doc.sents]\n",
    "                \n",
    "                # Ignore the tokenise setence with length less than 5 \n",
    "                for k in range(len(sents_len)):\n",
    "                    if sents_len[k] > 5:\n",
    "                        new_sents.append(sents[k])\n",
    "            else:\n",
    "                new_sents = []\n",
    "                \n",
    "            # Assign to final list\n",
    "            final_list[i][j] = new_sents\n",
    "\n",
    "    final_list = list(chain.from_iterable(final_list))\n",
    "    final_list = [x for x in final_list if x]\n",
    "    new_list.append(final_list)\n",
    "\n",
    "    return new_list"
   ]
  },
  {
   "cell_type": "code",
   "execution_count": 99,
   "metadata": {},
   "outputs": [],
   "source": [
    "final_list_converted_pairs = convert_pairs(final_list)\n",
    "# final_list_converted_pairs"
   ]
  },
  {
   "cell_type": "code",
   "execution_count": 100,
   "metadata": {},
   "outputs": [
    {
     "output_type": "stream",
     "name": "stdout",
     "text": [
      "<class 'list'>\n1st list:  [Some scoff at the notion that movies do anything more than entertain., Anyone who doubts the potential influence that movies can have on public opinion need to look no further than two films that are causing an uproar even before they have opened nationwide., The first, \"Zero Dark Thirty,\" is about the pursuit and killing of Osama bin Laden, which features scenes of torture., Critics of \"Zero Dark Thirty\" fear that audiences will accept as true the film's story line that torture was effective in eliciting information to locate bin Laden., Did torture really net bin Laden?, Opposition to the film escalated last week as three senior U.S. senators -- John McCain, Carl Levin and Dianne Feinstein -- sent a letter to the film's distributor, Sony Pictures, characterizing the film's use of torture as \"grossly inaccurate and misleading., The hostility toward \"Promised Land\" shows us that it's not just politicians who complain about movie messages., It has set up a rapid response team to counter publicity for the film by using two Washington-based groups that lobby for gas and oil companies: the Independent Petroleum Association of America and Energy in Depth., Energy in Depth went as far as to \"fact check\" a recent appearance by the film's co-star and co-writer, John Krasinski, on \"Late Night With David Letterman., This is the same reason that minority groups continue to object to being represented in a negative light in movies and TV., What's Hollywood's role in all of this?, In fact, there's no doubt that the studios behind these movies are overjoyed at the controversy that has erupted and the resulting free press., So go ahead, enjoy these films and ones like them that are based on actual events or current hot issues., A movie or TV show can educate or (mis)educate you, To make money, of course]\n2nd list:  [Can a movie truly cause you to view certain minority groups in a negative light?, And for those already agreeing with the film's thesis, it can further entrench your views., They present hot button issues that manage to fire up people from the left and right., The second, \"Promised Land,\" stars Matt Damon and explores how the use of fracking to drill for natural gas can pose health and environmental dangers., They are rightfully concerned that the film will sway some to become more receptive or even supportive of the idea of torturing prisoners., Did torture really net bin Laden?, The senators bluntly informed Sony Pictures that it has \"an obligation to state that the role of torture in the hunt for Osama bin Laden is not based on the facts, but rather part of the film's fictional narrative.\", Big business -- namely, the gas industry -- is aggressively objecting to the allegation in \"Promised Land\" that fracking poses environmental and health risks., These groups have scrutinized appearances by the films stars on talk shows, questioned who the financiers of the film are, published parts of the script and mocked the film on social media., Within hours of Krasinski's appearance, Energy in Depth posted a blog on its website pointing out what it perceived as factual errors made by Krasinski about fracking., (Being of Italian and Arab descent, I'm acutely aware of this issue as my respective heritages have been represented by a parade of mobsters and terrorists.), The same as it has always been -- to make money., Indeed, the response of Sony Pictures to the uproar over \"Zero Dark Thirty\" tells you about what they really hope we will all do: \"We encourage people to see the film before characterizing it.\", You might also be getting a (mis)education., A movie or TV show can educate or (mis)educate you]\n"
     ]
    }
   ],
   "source": [
    "sent_1_list = []\n",
    "sent_2_list = []\n",
    "for i in range(len(final_list_converted_pairs)):\n",
    "    for j in range(len(final_list_converted_pairs[i])):\n",
    "        first_val = final_list_converted_pairs[i][j][0]\n",
    "        sent_1_list.append(first_val)\n",
    "        \n",
    "        last_val = final_list_converted_pairs[i][j][-1]\n",
    "        sent_2_list.append(last_val)\n",
    "\n",
    "# remove 1st and last element from sent_1_list and sent_2_list repsectively\n",
    "sent_1_list = sent_1_list[1:] \n",
    "sent_2_list = sent_2_list[:-1]         \n",
    "print(type(sent_1_list))\n",
    "\n",
    "print(\"1st list: \", sent_1_list)\n",
    "print(\"2nd list: \", sent_2_list)"
   ]
  },
  {
   "cell_type": "code",
   "execution_count": 101,
   "metadata": {},
   "outputs": [
    {
     "output_type": "execute_result",
     "data": {
      "text/plain": [
       "                                               sent-1  \\\n",
       "0   Some scoff at the notion that movies do anythi...   \n",
       "1   Anyone who doubts the potential influence that...   \n",
       "2   The first, \"Zero Dark Thirty,\" is about the pu...   \n",
       "3   Critics of \"Zero Dark Thirty\" fear that audien...   \n",
       "4                   Did torture really net bin Laden?   \n",
       "5   Opposition to the film escalated last week as ...   \n",
       "6   The hostility toward \"Promised Land\" shows us ...   \n",
       "7   It has set up a rapid response team to counter...   \n",
       "8   Energy in Depth went as far as to \"fact check\"...   \n",
       "9   This is the same reason that minority groups c...   \n",
       "10            What's Hollywood's role in all of this?   \n",
       "11  In fact, there's no doubt that the studios beh...   \n",
       "12  So go ahead, enjoy these films and ones like t...   \n",
       "13  A movie or TV show can educate or (mis)educate...   \n",
       "14                           To make money, of course   \n",
       "\n",
       "                                               sent-2  \n",
       "0   Can a movie truly cause you to view certain mi...  \n",
       "1   And for those already agreeing with the film's...  \n",
       "2   They present hot button issues that manage to ...  \n",
       "3   The second, \"Promised Land,\" stars Matt Damon ...  \n",
       "4   They are rightfully concerned that the film wi...  \n",
       "5                   Did torture really net bin Laden?  \n",
       "6   The senators bluntly informed Sony Pictures th...  \n",
       "7   Big business -- namely, the gas industry -- is...  \n",
       "8   These groups have scrutinized appearances by t...  \n",
       "9   Within hours of Krasinski's appearance, Energy...  \n",
       "10  (Being of Italian and Arab descent, I'm acutel...  \n",
       "11   The same as it has always been -- to make money.  \n",
       "12  Indeed, the response of Sony Pictures to the u...  \n",
       "13        You might also be getting a (mis)education.  \n",
       "14  A movie or TV show can educate or (mis)educate...  "
      ],
      "text/html": "<div>\n<style scoped>\n    .dataframe tbody tr th:only-of-type {\n        vertical-align: middle;\n    }\n\n    .dataframe tbody tr th {\n        vertical-align: top;\n    }\n\n    .dataframe thead th {\n        text-align: right;\n    }\n</style>\n<table border=\"1\" class=\"dataframe\">\n  <thead>\n    <tr style=\"text-align: right;\">\n      <th></th>\n      <th>sent-1</th>\n      <th>sent-2</th>\n    </tr>\n  </thead>\n  <tbody>\n    <tr>\n      <th>0</th>\n      <td>Some scoff at the notion that movies do anythi...</td>\n      <td>Can a movie truly cause you to view certain mi...</td>\n    </tr>\n    <tr>\n      <th>1</th>\n      <td>Anyone who doubts the potential influence that...</td>\n      <td>And for those already agreeing with the film's...</td>\n    </tr>\n    <tr>\n      <th>2</th>\n      <td>The first, \"Zero Dark Thirty,\" is about the pu...</td>\n      <td>They present hot button issues that manage to ...</td>\n    </tr>\n    <tr>\n      <th>3</th>\n      <td>Critics of \"Zero Dark Thirty\" fear that audien...</td>\n      <td>The second, \"Promised Land,\" stars Matt Damon ...</td>\n    </tr>\n    <tr>\n      <th>4</th>\n      <td>Did torture really net bin Laden?</td>\n      <td>They are rightfully concerned that the film wi...</td>\n    </tr>\n    <tr>\n      <th>5</th>\n      <td>Opposition to the film escalated last week as ...</td>\n      <td>Did torture really net bin Laden?</td>\n    </tr>\n    <tr>\n      <th>6</th>\n      <td>The hostility toward \"Promised Land\" shows us ...</td>\n      <td>The senators bluntly informed Sony Pictures th...</td>\n    </tr>\n    <tr>\n      <th>7</th>\n      <td>It has set up a rapid response team to counter...</td>\n      <td>Big business -- namely, the gas industry -- is...</td>\n    </tr>\n    <tr>\n      <th>8</th>\n      <td>Energy in Depth went as far as to \"fact check\"...</td>\n      <td>These groups have scrutinized appearances by t...</td>\n    </tr>\n    <tr>\n      <th>9</th>\n      <td>This is the same reason that minority groups c...</td>\n      <td>Within hours of Krasinski's appearance, Energy...</td>\n    </tr>\n    <tr>\n      <th>10</th>\n      <td>What's Hollywood's role in all of this?</td>\n      <td>(Being of Italian and Arab descent, I'm acutel...</td>\n    </tr>\n    <tr>\n      <th>11</th>\n      <td>In fact, there's no doubt that the studios beh...</td>\n      <td>The same as it has always been -- to make money.</td>\n    </tr>\n    <tr>\n      <th>12</th>\n      <td>So go ahead, enjoy these films and ones like t...</td>\n      <td>Indeed, the response of Sony Pictures to the u...</td>\n    </tr>\n    <tr>\n      <th>13</th>\n      <td>A movie or TV show can educate or (mis)educate...</td>\n      <td>You might also be getting a (mis)education.</td>\n    </tr>\n    <tr>\n      <th>14</th>\n      <td>To make money, of course</td>\n      <td>A movie or TV show can educate or (mis)educate...</td>\n    </tr>\n  </tbody>\n</table>\n</div>"
     },
     "metadata": {},
     "execution_count": 101
    }
   ],
   "source": [
    "columns = [\"sent-1\", \"sent-2\"]\n",
    "final_df = pd.DataFrame(columns=columns)\n",
    "final_df['sent-1'] = sent_1_list\n",
    "final_df['sent-2'] = sent_2_list\n",
    "final_df['sent-1'] = final_df['sent-1'].astype('str')\n",
    "final_df['sent-2'] = final_df['sent-2'].astype('str')\n",
    "# final_df"
   ]
  },
  {
   "cell_type": "code",
   "execution_count": null,
   "metadata": {},
   "outputs": [],
   "source": []
  }
 ]
}